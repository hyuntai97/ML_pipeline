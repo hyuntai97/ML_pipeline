{
 "cells": [
  {
   "cell_type": "code",
   "execution_count": 1,
   "id": "02604688",
   "metadata": {
    "ExecuteTime": {
     "end_time": "2022-01-06T07:16:11.498604Z",
     "start_time": "2022-01-06T07:16:08.676329Z"
    }
   },
   "outputs": [],
   "source": [
    "# Classic,data manipulation and linear algebra\n",
    "import pandas as pd\n",
    "import numpy as np\n",
    "\n",
    "# Data processing, metrics and modeling\n",
    "from sklearn.preprocessing import StandardScaler, LabelEncoder\n",
    "from sklearn.model_selection import train_test_split\n",
    "\n",
    "# Stats\n",
    "import scipy.stats as ss\n",
    "from scipy.stats import randint as sp_randint\n",
    "from scipy.stats import uniform as sp_uniform\n",
    "\n",
    "#ignore warning messages \n",
    "import warnings\n",
    "warnings.filterwarnings('ignore') "
   ]
  },
  {
   "cell_type": "code",
   "execution_count": 2,
   "id": "5b594537",
   "metadata": {
    "ExecuteTime": {
     "end_time": "2022-01-06T07:16:11.531335Z",
     "start_time": "2022-01-06T07:16:11.501604Z"
    }
   },
   "outputs": [],
   "source": [
    "train = pd.read_csv('../dataset/train.csv')\n",
    "test = pd.read_csv('../dataset/test.csv')"
   ]
  },
  {
   "cell_type": "code",
   "execution_count": 3,
   "id": "d963ae5a",
   "metadata": {
    "ExecuteTime": {
     "end_time": "2022-01-06T07:16:11.561351Z",
     "start_time": "2022-01-06T07:16:11.534351Z"
    }
   },
   "outputs": [
    {
     "data": {
      "text/plain": [
       "(1309, 13)"
      ]
     },
     "execution_count": 3,
     "metadata": {},
     "output_type": "execute_result"
    }
   ],
   "source": [
    "# Adding a column in each dataset before merging\n",
    "train['Type'] = 'train'\n",
    "test['Type'] = 'test'\n",
    "\n",
    "# Merging train and test\n",
    "data = train.append(test) # The entire data: train + test.\n",
    "\n",
    "# How many rows and columns in dataset\n",
    "data.shape"
   ]
  },
  {
   "cell_type": "markdown",
   "id": "a87fc244",
   "metadata": {},
   "source": [
    "# FE"
   ]
  },
  {
   "cell_type": "code",
   "execution_count": 4,
   "id": "4438c91e",
   "metadata": {
    "ExecuteTime": {
     "end_time": "2022-01-06T07:16:16.720774Z",
     "start_time": "2022-01-06T07:16:11.563341Z"
    }
   },
   "outputs": [],
   "source": [
    "# Creating variable Title\n",
    "data['Title'] = data['Name']\n",
    "# Cleaning name and extracting Title\n",
    "for name_string in data['Name']:\n",
    "    data['Title'] = data['Name'].str.extract('([A-Za-z]+)\\.', expand=True)"
   ]
  },
  {
   "cell_type": "code",
   "execution_count": 5,
   "id": "a5988b0c",
   "metadata": {
    "ExecuteTime": {
     "end_time": "2022-01-06T07:16:16.752761Z",
     "start_time": "2022-01-06T07:16:16.722757Z"
    }
   },
   "outputs": [],
   "source": [
    "# Replacing rare titles \n",
    "mapping = {'Mlle': 'Miss', \n",
    "           'Ms': 'Miss', \n",
    "           'Mme': 'Mrs',\n",
    "           'Major': 'Other', \n",
    "           'Col': 'Other', \n",
    "           'Dr' : 'Other', \n",
    "           'Rev' : 'Other',\n",
    "           'Capt': 'Other', \n",
    "           'Jonkheer': 'Royal',\n",
    "           'Sir': 'Royal', \n",
    "           'Lady': 'Royal', \n",
    "           'Don': 'Royal',\n",
    "           'Countess': 'Royal', \n",
    "           'Dona': 'Royal'}\n",
    "data.replace({'Title': mapping}, inplace=True)\n",
    "titles = ['Miss', 'Mr', 'Mrs', 'Royal', 'Other', 'Master']"
   ]
  },
  {
   "cell_type": "code",
   "execution_count": 6,
   "id": "b7747856",
   "metadata": {
    "ExecuteTime": {
     "end_time": "2022-01-06T07:16:16.783773Z",
     "start_time": "2022-01-06T07:16:16.755762Z"
    }
   },
   "outputs": [],
   "source": [
    "# Replacing missing age by median/title \n",
    "for title in titles:\n",
    "    age_to_impute = data.groupby('Title')['Age'].median()[titles.index(title)]\n",
    "    data.loc[(data['Age'].isnull()) & (data['Title'] == title), 'Age'] = age_to_impute"
   ]
  },
  {
   "cell_type": "code",
   "execution_count": 7,
   "id": "aa5b30a5",
   "metadata": {
    "ExecuteTime": {
     "end_time": "2022-01-06T07:16:16.830800Z",
     "start_time": "2022-01-06T07:16:16.785761Z"
    }
   },
   "outputs": [],
   "source": [
    "# Creating new feature : family size\n",
    "data['Family_Size'] = data['Parch'] + data['SibSp'] + 1\n",
    "data.loc[:,'FsizeD']='Alone'\n",
    "data.loc[(data['Family_Size']>1),'FsizeD']='Small'\n",
    "data.loc[(data['Family_Size']>4),'FsizeD']='Big'"
   ]
  },
  {
   "cell_type": "code",
   "execution_count": 8,
   "id": "dfbbfbc7",
   "metadata": {
    "ExecuteTime": {
     "end_time": "2022-01-06T07:16:16.846786Z",
     "start_time": "2022-01-06T07:16:16.833785Z"
    }
   },
   "outputs": [],
   "source": [
    "fa = data[data[\"Pclass\"]==3]\n",
    "data['Fare'].fillna(fa['Fare'].median(), inplace = True)"
   ]
  },
  {
   "cell_type": "code",
   "execution_count": 9,
   "id": "8a29de40",
   "metadata": {
    "ExecuteTime": {
     "end_time": "2022-01-06T07:16:16.861787Z",
     "start_time": "2022-01-06T07:16:16.849788Z"
    }
   },
   "outputs": [],
   "source": [
    "data.loc[:,'Child']=1\n",
    "data.loc[(data['Age']>=18),'Child']=0"
   ]
  },
  {
   "cell_type": "code",
   "execution_count": 10,
   "id": "7e3e3876",
   "metadata": {
    "ExecuteTime": {
     "end_time": "2022-01-06T07:16:16.876802Z",
     "start_time": "2022-01-06T07:16:16.864792Z"
    }
   },
   "outputs": [],
   "source": [
    "data['Embarked'].fillna(data['Embarked'].mode()[0], inplace=True)"
   ]
  },
  {
   "cell_type": "code",
   "execution_count": 11,
   "id": "8d13694a",
   "metadata": {
    "ExecuteTime": {
     "end_time": "2022-01-06T07:16:16.892792Z",
     "start_time": "2022-01-06T07:16:16.878789Z"
    }
   },
   "outputs": [],
   "source": [
    "data.drop('Cabin', axis=1, inplace=True)"
   ]
  },
  {
   "cell_type": "code",
   "execution_count": 12,
   "id": "42c6017d",
   "metadata": {
    "ExecuteTime": {
     "end_time": "2022-01-06T07:16:16.908790Z",
     "start_time": "2022-01-06T07:16:16.894791Z"
    }
   },
   "outputs": [],
   "source": [
    "target_col = [\"Survived\"]\n",
    "cat_cols = ['Pclass', 'Sex', 'Embarked', 'Title', 'FsizeD', 'Child']\n",
    "num_cols = ['Age', 'SibSp', 'Parch', 'Fare', 'Family_Size']"
   ]
  },
  {
   "cell_type": "code",
   "execution_count": 13,
   "id": "987d42ce",
   "metadata": {
    "ExecuteTime": {
     "end_time": "2022-01-06T07:16:16.940795Z",
     "start_time": "2022-01-06T07:16:16.911793Z"
    }
   },
   "outputs": [],
   "source": [
    "#Label encoding Binary columns\n",
    "le = LabelEncoder()\n",
    "for i in cat_cols :\n",
    "    data[i] = le.fit_transform(data[i])"
   ]
  },
  {
   "cell_type": "code",
   "execution_count": 14,
   "id": "dd1b60c6",
   "metadata": {
    "ExecuteTime": {
     "end_time": "2022-01-06T07:16:16.972797Z",
     "start_time": "2022-01-06T07:16:16.944798Z"
    }
   },
   "outputs": [],
   "source": [
    "#Scaling Numerical columns\n",
    "std = StandardScaler()\n",
    "scaled = std.fit_transform(data[num_cols])\n",
    "scaled = pd.DataFrame(scaled,columns=num_cols)"
   ]
  },
  {
   "cell_type": "code",
   "execution_count": 15,
   "id": "37ae1813",
   "metadata": {
    "ExecuteTime": {
     "end_time": "2022-01-06T07:16:16.988799Z",
     "start_time": "2022-01-06T07:16:16.975798Z"
    }
   },
   "outputs": [],
   "source": [
    "data.reset_index(drop=True, inplace=True)"
   ]
  },
  {
   "cell_type": "code",
   "execution_count": 16,
   "id": "4a6815ac",
   "metadata": {
    "ExecuteTime": {
     "end_time": "2022-01-06T07:16:17.004800Z",
     "start_time": "2022-01-06T07:16:16.991799Z"
    }
   },
   "outputs": [],
   "source": [
    "#dropping original values merging scaled values for numerical columns\n",
    "df_data_og = data.copy()\n",
    "data = data.drop(columns = num_cols,axis = 1)\n",
    "data = data.merge(scaled,left_index=True,right_index=True,how = \"left\")"
   ]
  },
  {
   "cell_type": "code",
   "execution_count": 17,
   "id": "df6c7461",
   "metadata": {
    "ExecuteTime": {
     "end_time": "2022-01-06T07:16:17.083804Z",
     "start_time": "2022-01-06T07:16:17.007802Z"
    },
    "scrolled": true
   },
   "outputs": [
    {
     "data": {
      "text/html": [
       "<div>\n",
       "<style scoped>\n",
       "    .dataframe tbody tr th:only-of-type {\n",
       "        vertical-align: middle;\n",
       "    }\n",
       "\n",
       "    .dataframe tbody tr th {\n",
       "        vertical-align: top;\n",
       "    }\n",
       "\n",
       "    .dataframe thead th {\n",
       "        text-align: right;\n",
       "    }\n",
       "</style>\n",
       "<table border=\"1\" class=\"dataframe\">\n",
       "  <thead>\n",
       "    <tr style=\"text-align: right;\">\n",
       "      <th></th>\n",
       "      <th>PassengerId</th>\n",
       "      <th>Survived</th>\n",
       "      <th>Pclass</th>\n",
       "      <th>Name</th>\n",
       "      <th>Sex</th>\n",
       "      <th>Ticket</th>\n",
       "      <th>Embarked</th>\n",
       "      <th>Type</th>\n",
       "      <th>Title</th>\n",
       "      <th>FsizeD</th>\n",
       "      <th>Child</th>\n",
       "      <th>Age</th>\n",
       "      <th>SibSp</th>\n",
       "      <th>Parch</th>\n",
       "      <th>Fare</th>\n",
       "      <th>Family_Size</th>\n",
       "    </tr>\n",
       "  </thead>\n",
       "  <tbody>\n",
       "    <tr>\n",
       "      <th>0</th>\n",
       "      <td>1</td>\n",
       "      <td>0.0</td>\n",
       "      <td>2</td>\n",
       "      <td>Braund, Mr. Owen Harris</td>\n",
       "      <td>1</td>\n",
       "      <td>A/5 21171</td>\n",
       "      <td>2</td>\n",
       "      <td>train</td>\n",
       "      <td>2</td>\n",
       "      <td>2</td>\n",
       "      <td>0</td>\n",
       "      <td>-0.369154</td>\n",
       "      <td>0.481288</td>\n",
       "      <td>-0.445000</td>\n",
       "      <td>-0.503176</td>\n",
       "      <td>0.073352</td>\n",
       "    </tr>\n",
       "    <tr>\n",
       "      <th>1</th>\n",
       "      <td>2</td>\n",
       "      <td>1.0</td>\n",
       "      <td>0</td>\n",
       "      <td>Cumings, Mrs. John Bradley (Florence Briggs Th...</td>\n",
       "      <td>0</td>\n",
       "      <td>PC 17599</td>\n",
       "      <td>0</td>\n",
       "      <td>train</td>\n",
       "      <td>3</td>\n",
       "      <td>2</td>\n",
       "      <td>0</td>\n",
       "      <td>0.749065</td>\n",
       "      <td>0.481288</td>\n",
       "      <td>-0.445000</td>\n",
       "      <td>0.734809</td>\n",
       "      <td>0.073352</td>\n",
       "    </tr>\n",
       "    <tr>\n",
       "      <th>2</th>\n",
       "      <td>3</td>\n",
       "      <td>1.0</td>\n",
       "      <td>2</td>\n",
       "      <td>Heikkinen, Miss. Laina</td>\n",
       "      <td>0</td>\n",
       "      <td>STON/O2. 3101282</td>\n",
       "      <td>2</td>\n",
       "      <td>train</td>\n",
       "      <td>1</td>\n",
       "      <td>0</td>\n",
       "      <td>0</td>\n",
       "      <td>-0.089599</td>\n",
       "      <td>-0.479087</td>\n",
       "      <td>-0.445000</td>\n",
       "      <td>-0.490126</td>\n",
       "      <td>-0.558346</td>\n",
       "    </tr>\n",
       "    <tr>\n",
       "      <th>3</th>\n",
       "      <td>4</td>\n",
       "      <td>1.0</td>\n",
       "      <td>0</td>\n",
       "      <td>Futrelle, Mrs. Jacques Heath (Lily May Peel)</td>\n",
       "      <td>0</td>\n",
       "      <td>113803</td>\n",
       "      <td>2</td>\n",
       "      <td>train</td>\n",
       "      <td>3</td>\n",
       "      <td>2</td>\n",
       "      <td>0</td>\n",
       "      <td>0.539399</td>\n",
       "      <td>0.481288</td>\n",
       "      <td>-0.445000</td>\n",
       "      <td>0.383263</td>\n",
       "      <td>0.073352</td>\n",
       "    </tr>\n",
       "    <tr>\n",
       "      <th>4</th>\n",
       "      <td>5</td>\n",
       "      <td>0.0</td>\n",
       "      <td>2</td>\n",
       "      <td>Allen, Mr. William Henry</td>\n",
       "      <td>1</td>\n",
       "      <td>373450</td>\n",
       "      <td>2</td>\n",
       "      <td>train</td>\n",
       "      <td>2</td>\n",
       "      <td>0</td>\n",
       "      <td>0</td>\n",
       "      <td>0.539399</td>\n",
       "      <td>-0.479087</td>\n",
       "      <td>-0.445000</td>\n",
       "      <td>-0.487709</td>\n",
       "      <td>-0.558346</td>\n",
       "    </tr>\n",
       "    <tr>\n",
       "      <th>...</th>\n",
       "      <td>...</td>\n",
       "      <td>...</td>\n",
       "      <td>...</td>\n",
       "      <td>...</td>\n",
       "      <td>...</td>\n",
       "      <td>...</td>\n",
       "      <td>...</td>\n",
       "      <td>...</td>\n",
       "      <td>...</td>\n",
       "      <td>...</td>\n",
       "      <td>...</td>\n",
       "      <td>...</td>\n",
       "      <td>...</td>\n",
       "      <td>...</td>\n",
       "      <td>...</td>\n",
       "      <td>...</td>\n",
       "    </tr>\n",
       "    <tr>\n",
       "      <th>1304</th>\n",
       "      <td>1305</td>\n",
       "      <td>NaN</td>\n",
       "      <td>2</td>\n",
       "      <td>Spector, Mr. Woolf</td>\n",
       "      <td>1</td>\n",
       "      <td>A.5. 3236</td>\n",
       "      <td>2</td>\n",
       "      <td>test</td>\n",
       "      <td>2</td>\n",
       "      <td>0</td>\n",
       "      <td>0</td>\n",
       "      <td>-0.631236</td>\n",
       "      <td>-0.479087</td>\n",
       "      <td>-0.445000</td>\n",
       "      <td>-0.487709</td>\n",
       "      <td>-0.558346</td>\n",
       "    </tr>\n",
       "    <tr>\n",
       "      <th>1305</th>\n",
       "      <td>1306</td>\n",
       "      <td>NaN</td>\n",
       "      <td>0</td>\n",
       "      <td>Oliva y Ocana, Dona. Fermina</td>\n",
       "      <td>0</td>\n",
       "      <td>PC 17758</td>\n",
       "      <td>0</td>\n",
       "      <td>test</td>\n",
       "      <td>5</td>\n",
       "      <td>0</td>\n",
       "      <td>0</td>\n",
       "      <td>0.818954</td>\n",
       "      <td>-0.479087</td>\n",
       "      <td>-0.445000</td>\n",
       "      <td>1.462069</td>\n",
       "      <td>-0.558346</td>\n",
       "    </tr>\n",
       "    <tr>\n",
       "      <th>1306</th>\n",
       "      <td>1307</td>\n",
       "      <td>NaN</td>\n",
       "      <td>2</td>\n",
       "      <td>Saether, Mr. Simon Sivertsen</td>\n",
       "      <td>1</td>\n",
       "      <td>SOTON/O.Q. 3101262</td>\n",
       "      <td>2</td>\n",
       "      <td>test</td>\n",
       "      <td>2</td>\n",
       "      <td>0</td>\n",
       "      <td>0</td>\n",
       "      <td>0.784010</td>\n",
       "      <td>-0.479087</td>\n",
       "      <td>-0.445000</td>\n",
       "      <td>-0.503176</td>\n",
       "      <td>-0.558346</td>\n",
       "    </tr>\n",
       "    <tr>\n",
       "      <th>1307</th>\n",
       "      <td>1308</td>\n",
       "      <td>NaN</td>\n",
       "      <td>2</td>\n",
       "      <td>Ware, Mr. Frederick</td>\n",
       "      <td>1</td>\n",
       "      <td>359309</td>\n",
       "      <td>2</td>\n",
       "      <td>test</td>\n",
       "      <td>2</td>\n",
       "      <td>0</td>\n",
       "      <td>0</td>\n",
       "      <td>-0.631236</td>\n",
       "      <td>-0.479087</td>\n",
       "      <td>-0.445000</td>\n",
       "      <td>-0.487709</td>\n",
       "      <td>-0.558346</td>\n",
       "    </tr>\n",
       "    <tr>\n",
       "      <th>1308</th>\n",
       "      <td>1309</td>\n",
       "      <td>NaN</td>\n",
       "      <td>2</td>\n",
       "      <td>Peter, Master. Michael J</td>\n",
       "      <td>1</td>\n",
       "      <td>2668</td>\n",
       "      <td>0</td>\n",
       "      <td>test</td>\n",
       "      <td>0</td>\n",
       "      <td>2</td>\n",
       "      <td>0</td>\n",
       "      <td>0.853898</td>\n",
       "      <td>0.481288</td>\n",
       "      <td>0.710763</td>\n",
       "      <td>-0.211081</td>\n",
       "      <td>0.705051</td>\n",
       "    </tr>\n",
       "  </tbody>\n",
       "</table>\n",
       "<p>1309 rows × 16 columns</p>\n",
       "</div>"
      ],
      "text/plain": [
       "      PassengerId  Survived  Pclass  \\\n",
       "0               1       0.0       2   \n",
       "1               2       1.0       0   \n",
       "2               3       1.0       2   \n",
       "3               4       1.0       0   \n",
       "4               5       0.0       2   \n",
       "...           ...       ...     ...   \n",
       "1304         1305       NaN       2   \n",
       "1305         1306       NaN       0   \n",
       "1306         1307       NaN       2   \n",
       "1307         1308       NaN       2   \n",
       "1308         1309       NaN       2   \n",
       "\n",
       "                                                   Name  Sex  \\\n",
       "0                               Braund, Mr. Owen Harris    1   \n",
       "1     Cumings, Mrs. John Bradley (Florence Briggs Th...    0   \n",
       "2                                Heikkinen, Miss. Laina    0   \n",
       "3          Futrelle, Mrs. Jacques Heath (Lily May Peel)    0   \n",
       "4                              Allen, Mr. William Henry    1   \n",
       "...                                                 ...  ...   \n",
       "1304                                 Spector, Mr. Woolf    1   \n",
       "1305                       Oliva y Ocana, Dona. Fermina    0   \n",
       "1306                       Saether, Mr. Simon Sivertsen    1   \n",
       "1307                                Ware, Mr. Frederick    1   \n",
       "1308                           Peter, Master. Michael J    1   \n",
       "\n",
       "                  Ticket  Embarked   Type  Title  FsizeD  Child       Age  \\\n",
       "0              A/5 21171         2  train      2       2      0 -0.369154   \n",
       "1               PC 17599         0  train      3       2      0  0.749065   \n",
       "2       STON/O2. 3101282         2  train      1       0      0 -0.089599   \n",
       "3                 113803         2  train      3       2      0  0.539399   \n",
       "4                 373450         2  train      2       0      0  0.539399   \n",
       "...                  ...       ...    ...    ...     ...    ...       ...   \n",
       "1304           A.5. 3236         2   test      2       0      0 -0.631236   \n",
       "1305            PC 17758         0   test      5       0      0  0.818954   \n",
       "1306  SOTON/O.Q. 3101262         2   test      2       0      0  0.784010   \n",
       "1307              359309         2   test      2       0      0 -0.631236   \n",
       "1308                2668         0   test      0       2      0  0.853898   \n",
       "\n",
       "         SibSp     Parch      Fare  Family_Size  \n",
       "0     0.481288 -0.445000 -0.503176     0.073352  \n",
       "1     0.481288 -0.445000  0.734809     0.073352  \n",
       "2    -0.479087 -0.445000 -0.490126    -0.558346  \n",
       "3     0.481288 -0.445000  0.383263     0.073352  \n",
       "4    -0.479087 -0.445000 -0.487709    -0.558346  \n",
       "...        ...       ...       ...          ...  \n",
       "1304 -0.479087 -0.445000 -0.487709    -0.558346  \n",
       "1305 -0.479087 -0.445000  1.462069    -0.558346  \n",
       "1306 -0.479087 -0.445000 -0.503176    -0.558346  \n",
       "1307 -0.479087 -0.445000 -0.487709    -0.558346  \n",
       "1308  0.481288  0.710763 -0.211081     0.705051  \n",
       "\n",
       "[1309 rows x 16 columns]"
      ]
     },
     "execution_count": 17,
     "metadata": {},
     "output_type": "execute_result"
    }
   ],
   "source": [
    "data"
   ]
  },
  {
   "cell_type": "code",
   "execution_count": 18,
   "id": "6d298eb5",
   "metadata": {
    "ExecuteTime": {
     "end_time": "2022-01-06T07:16:17.098806Z",
     "start_time": "2022-01-06T07:16:17.085807Z"
    }
   },
   "outputs": [],
   "source": [
    "train = data[data['Type']=='train']\n",
    "test = data[data['Type']=='test']"
   ]
  },
  {
   "cell_type": "code",
   "execution_count": 19,
   "id": "3be9f26f",
   "metadata": {
    "ExecuteTime": {
     "end_time": "2022-01-06T07:16:17.130808Z",
     "start_time": "2022-01-06T07:16:17.100807Z"
    }
   },
   "outputs": [
    {
     "data": {
      "text/html": [
       "<div>\n",
       "<style scoped>\n",
       "    .dataframe tbody tr th:only-of-type {\n",
       "        vertical-align: middle;\n",
       "    }\n",
       "\n",
       "    .dataframe tbody tr th {\n",
       "        vertical-align: top;\n",
       "    }\n",
       "\n",
       "    .dataframe thead th {\n",
       "        text-align: right;\n",
       "    }\n",
       "</style>\n",
       "<table border=\"1\" class=\"dataframe\">\n",
       "  <thead>\n",
       "    <tr style=\"text-align: right;\">\n",
       "      <th></th>\n",
       "      <th>PassengerId</th>\n",
       "      <th>Survived</th>\n",
       "      <th>Pclass</th>\n",
       "      <th>Name</th>\n",
       "      <th>Sex</th>\n",
       "      <th>Ticket</th>\n",
       "      <th>Embarked</th>\n",
       "      <th>Type</th>\n",
       "      <th>Title</th>\n",
       "      <th>FsizeD</th>\n",
       "      <th>Child</th>\n",
       "      <th>Age</th>\n",
       "      <th>SibSp</th>\n",
       "      <th>Parch</th>\n",
       "      <th>Fare</th>\n",
       "      <th>Family_Size</th>\n",
       "    </tr>\n",
       "  </thead>\n",
       "  <tbody>\n",
       "    <tr>\n",
       "      <th>891</th>\n",
       "      <td>892</td>\n",
       "      <td>NaN</td>\n",
       "      <td>2</td>\n",
       "      <td>Kelly, Mr. James</td>\n",
       "      <td>1</td>\n",
       "      <td>330911</td>\n",
       "      <td>1</td>\n",
       "      <td>test</td>\n",
       "      <td>2</td>\n",
       "      <td>0</td>\n",
       "      <td>0</td>\n",
       "      <td>0.504455</td>\n",
       "      <td>-0.479087</td>\n",
       "      <td>-0.445000</td>\n",
       "      <td>-0.491978</td>\n",
       "      <td>-0.558346</td>\n",
       "    </tr>\n",
       "    <tr>\n",
       "      <th>892</th>\n",
       "      <td>893</td>\n",
       "      <td>NaN</td>\n",
       "      <td>2</td>\n",
       "      <td>Wilkes, Mrs. James (Ellen Needs)</td>\n",
       "      <td>0</td>\n",
       "      <td>363272</td>\n",
       "      <td>2</td>\n",
       "      <td>test</td>\n",
       "      <td>3</td>\n",
       "      <td>2</td>\n",
       "      <td>0</td>\n",
       "      <td>1.378064</td>\n",
       "      <td>0.481288</td>\n",
       "      <td>-0.445000</td>\n",
       "      <td>-0.508010</td>\n",
       "      <td>0.073352</td>\n",
       "    </tr>\n",
       "    <tr>\n",
       "      <th>893</th>\n",
       "      <td>894</td>\n",
       "      <td>NaN</td>\n",
       "      <td>1</td>\n",
       "      <td>Myles, Mr. Thomas Francis</td>\n",
       "      <td>1</td>\n",
       "      <td>240276</td>\n",
       "      <td>1</td>\n",
       "      <td>test</td>\n",
       "      <td>2</td>\n",
       "      <td>0</td>\n",
       "      <td>0</td>\n",
       "      <td>2.426394</td>\n",
       "      <td>-0.479087</td>\n",
       "      <td>-0.445000</td>\n",
       "      <td>-0.456051</td>\n",
       "      <td>-0.558346</td>\n",
       "    </tr>\n",
       "    <tr>\n",
       "      <th>894</th>\n",
       "      <td>895</td>\n",
       "      <td>NaN</td>\n",
       "      <td>2</td>\n",
       "      <td>Wirz, Mr. Albert</td>\n",
       "      <td>1</td>\n",
       "      <td>315154</td>\n",
       "      <td>2</td>\n",
       "      <td>test</td>\n",
       "      <td>2</td>\n",
       "      <td>0</td>\n",
       "      <td>0</td>\n",
       "      <td>-0.019710</td>\n",
       "      <td>-0.479087</td>\n",
       "      <td>-0.445000</td>\n",
       "      <td>-0.475868</td>\n",
       "      <td>-0.558346</td>\n",
       "    </tr>\n",
       "    <tr>\n",
       "      <th>895</th>\n",
       "      <td>896</td>\n",
       "      <td>NaN</td>\n",
       "      <td>2</td>\n",
       "      <td>Hirvonen, Mrs. Alexander (Helga E Lindqvist)</td>\n",
       "      <td>0</td>\n",
       "      <td>3101298</td>\n",
       "      <td>2</td>\n",
       "      <td>test</td>\n",
       "      <td>3</td>\n",
       "      <td>2</td>\n",
       "      <td>0</td>\n",
       "      <td>-0.369154</td>\n",
       "      <td>0.481288</td>\n",
       "      <td>0.710763</td>\n",
       "      <td>-0.405784</td>\n",
       "      <td>0.705051</td>\n",
       "    </tr>\n",
       "  </tbody>\n",
       "</table>\n",
       "</div>"
      ],
      "text/plain": [
       "     PassengerId  Survived  Pclass  \\\n",
       "891          892       NaN       2   \n",
       "892          893       NaN       2   \n",
       "893          894       NaN       1   \n",
       "894          895       NaN       2   \n",
       "895          896       NaN       2   \n",
       "\n",
       "                                             Name  Sex   Ticket  Embarked  \\\n",
       "891                              Kelly, Mr. James    1   330911         1   \n",
       "892              Wilkes, Mrs. James (Ellen Needs)    0   363272         2   \n",
       "893                     Myles, Mr. Thomas Francis    1   240276         1   \n",
       "894                              Wirz, Mr. Albert    1   315154         2   \n",
       "895  Hirvonen, Mrs. Alexander (Helga E Lindqvist)    0  3101298         2   \n",
       "\n",
       "     Type  Title  FsizeD  Child       Age     SibSp     Parch      Fare  \\\n",
       "891  test      2       0      0  0.504455 -0.479087 -0.445000 -0.491978   \n",
       "892  test      3       2      0  1.378064  0.481288 -0.445000 -0.508010   \n",
       "893  test      2       0      0  2.426394 -0.479087 -0.445000 -0.456051   \n",
       "894  test      2       0      0 -0.019710 -0.479087 -0.445000 -0.475868   \n",
       "895  test      3       2      0 -0.369154  0.481288  0.710763 -0.405784   \n",
       "\n",
       "     Family_Size  \n",
       "891    -0.558346  \n",
       "892     0.073352  \n",
       "893    -0.558346  \n",
       "894    -0.558346  \n",
       "895     0.705051  "
      ]
     },
     "execution_count": 19,
     "metadata": {},
     "output_type": "execute_result"
    }
   ],
   "source": [
    "test.head()"
   ]
  },
  {
   "cell_type": "code",
   "execution_count": 20,
   "id": "19e59898",
   "metadata": {
    "ExecuteTime": {
     "end_time": "2022-01-06T07:16:17.162814Z",
     "start_time": "2022-01-06T07:16:17.133810Z"
    }
   },
   "outputs": [
    {
     "data": {
      "text/html": [
       "<div>\n",
       "<style scoped>\n",
       "    .dataframe tbody tr th:only-of-type {\n",
       "        vertical-align: middle;\n",
       "    }\n",
       "\n",
       "    .dataframe tbody tr th {\n",
       "        vertical-align: top;\n",
       "    }\n",
       "\n",
       "    .dataframe thead th {\n",
       "        text-align: right;\n",
       "    }\n",
       "</style>\n",
       "<table border=\"1\" class=\"dataframe\">\n",
       "  <thead>\n",
       "    <tr style=\"text-align: right;\">\n",
       "      <th></th>\n",
       "      <th>PassengerId</th>\n",
       "      <th>Survived</th>\n",
       "      <th>Pclass</th>\n",
       "      <th>Name</th>\n",
       "      <th>Sex</th>\n",
       "      <th>Ticket</th>\n",
       "      <th>Embarked</th>\n",
       "      <th>Type</th>\n",
       "      <th>Title</th>\n",
       "      <th>FsizeD</th>\n",
       "      <th>Child</th>\n",
       "      <th>Age</th>\n",
       "      <th>SibSp</th>\n",
       "      <th>Parch</th>\n",
       "      <th>Fare</th>\n",
       "      <th>Family_Size</th>\n",
       "    </tr>\n",
       "  </thead>\n",
       "  <tbody>\n",
       "    <tr>\n",
       "      <th>0</th>\n",
       "      <td>1</td>\n",
       "      <td>0.0</td>\n",
       "      <td>2</td>\n",
       "      <td>Braund, Mr. Owen Harris</td>\n",
       "      <td>1</td>\n",
       "      <td>A/5 21171</td>\n",
       "      <td>2</td>\n",
       "      <td>train</td>\n",
       "      <td>2</td>\n",
       "      <td>2</td>\n",
       "      <td>0</td>\n",
       "      <td>-0.369154</td>\n",
       "      <td>0.481288</td>\n",
       "      <td>-0.445</td>\n",
       "      <td>-0.503176</td>\n",
       "      <td>0.073352</td>\n",
       "    </tr>\n",
       "    <tr>\n",
       "      <th>1</th>\n",
       "      <td>2</td>\n",
       "      <td>1.0</td>\n",
       "      <td>0</td>\n",
       "      <td>Cumings, Mrs. John Bradley (Florence Briggs Th...</td>\n",
       "      <td>0</td>\n",
       "      <td>PC 17599</td>\n",
       "      <td>0</td>\n",
       "      <td>train</td>\n",
       "      <td>3</td>\n",
       "      <td>2</td>\n",
       "      <td>0</td>\n",
       "      <td>0.749065</td>\n",
       "      <td>0.481288</td>\n",
       "      <td>-0.445</td>\n",
       "      <td>0.734809</td>\n",
       "      <td>0.073352</td>\n",
       "    </tr>\n",
       "    <tr>\n",
       "      <th>2</th>\n",
       "      <td>3</td>\n",
       "      <td>1.0</td>\n",
       "      <td>2</td>\n",
       "      <td>Heikkinen, Miss. Laina</td>\n",
       "      <td>0</td>\n",
       "      <td>STON/O2. 3101282</td>\n",
       "      <td>2</td>\n",
       "      <td>train</td>\n",
       "      <td>1</td>\n",
       "      <td>0</td>\n",
       "      <td>0</td>\n",
       "      <td>-0.089599</td>\n",
       "      <td>-0.479087</td>\n",
       "      <td>-0.445</td>\n",
       "      <td>-0.490126</td>\n",
       "      <td>-0.558346</td>\n",
       "    </tr>\n",
       "    <tr>\n",
       "      <th>3</th>\n",
       "      <td>4</td>\n",
       "      <td>1.0</td>\n",
       "      <td>0</td>\n",
       "      <td>Futrelle, Mrs. Jacques Heath (Lily May Peel)</td>\n",
       "      <td>0</td>\n",
       "      <td>113803</td>\n",
       "      <td>2</td>\n",
       "      <td>train</td>\n",
       "      <td>3</td>\n",
       "      <td>2</td>\n",
       "      <td>0</td>\n",
       "      <td>0.539399</td>\n",
       "      <td>0.481288</td>\n",
       "      <td>-0.445</td>\n",
       "      <td>0.383263</td>\n",
       "      <td>0.073352</td>\n",
       "    </tr>\n",
       "    <tr>\n",
       "      <th>4</th>\n",
       "      <td>5</td>\n",
       "      <td>0.0</td>\n",
       "      <td>2</td>\n",
       "      <td>Allen, Mr. William Henry</td>\n",
       "      <td>1</td>\n",
       "      <td>373450</td>\n",
       "      <td>2</td>\n",
       "      <td>train</td>\n",
       "      <td>2</td>\n",
       "      <td>0</td>\n",
       "      <td>0</td>\n",
       "      <td>0.539399</td>\n",
       "      <td>-0.479087</td>\n",
       "      <td>-0.445</td>\n",
       "      <td>-0.487709</td>\n",
       "      <td>-0.558346</td>\n",
       "    </tr>\n",
       "  </tbody>\n",
       "</table>\n",
       "</div>"
      ],
      "text/plain": [
       "   PassengerId  Survived  Pclass  \\\n",
       "0            1       0.0       2   \n",
       "1            2       1.0       0   \n",
       "2            3       1.0       2   \n",
       "3            4       1.0       0   \n",
       "4            5       0.0       2   \n",
       "\n",
       "                                                Name  Sex            Ticket  \\\n",
       "0                            Braund, Mr. Owen Harris    1         A/5 21171   \n",
       "1  Cumings, Mrs. John Bradley (Florence Briggs Th...    0          PC 17599   \n",
       "2                             Heikkinen, Miss. Laina    0  STON/O2. 3101282   \n",
       "3       Futrelle, Mrs. Jacques Heath (Lily May Peel)    0            113803   \n",
       "4                           Allen, Mr. William Henry    1            373450   \n",
       "\n",
       "   Embarked   Type  Title  FsizeD  Child       Age     SibSp  Parch      Fare  \\\n",
       "0         2  train      2       2      0 -0.369154  0.481288 -0.445 -0.503176   \n",
       "1         0  train      3       2      0  0.749065  0.481288 -0.445  0.734809   \n",
       "2         2  train      1       0      0 -0.089599 -0.479087 -0.445 -0.490126   \n",
       "3         2  train      3       2      0  0.539399  0.481288 -0.445  0.383263   \n",
       "4         2  train      2       0      0  0.539399 -0.479087 -0.445 -0.487709   \n",
       "\n",
       "   Family_Size  \n",
       "0     0.073352  \n",
       "1     0.073352  \n",
       "2    -0.558346  \n",
       "3     0.073352  \n",
       "4    -0.558346  "
      ]
     },
     "execution_count": 20,
     "metadata": {},
     "output_type": "execute_result"
    }
   ],
   "source": [
    "train.head()"
   ]
  },
  {
   "cell_type": "code",
   "execution_count": 21,
   "id": "49e20481",
   "metadata": {
    "ExecuteTime": {
     "end_time": "2022-01-06T07:16:17.178813Z",
     "start_time": "2022-01-06T07:16:17.164813Z"
    }
   },
   "outputs": [],
   "source": [
    "train_tmp, val_tmp = train_test_split(train, test_size=0.3, random_state=42)"
   ]
  },
  {
   "cell_type": "code",
   "execution_count": 22,
   "id": "b89ad322",
   "metadata": {
    "ExecuteTime": {
     "end_time": "2022-01-06T07:16:17.194815Z",
     "start_time": "2022-01-06T07:16:17.180816Z"
    }
   },
   "outputs": [
    {
     "data": {
      "text/plain": [
       "(623, 16)"
      ]
     },
     "execution_count": 22,
     "metadata": {},
     "output_type": "execute_result"
    }
   ],
   "source": [
    "train_tmp.shape"
   ]
  },
  {
   "cell_type": "code",
   "execution_count": 23,
   "id": "01402c37",
   "metadata": {
    "ExecuteTime": {
     "end_time": "2022-01-06T07:16:17.210818Z",
     "start_time": "2022-01-06T07:16:17.198815Z"
    }
   },
   "outputs": [
    {
     "data": {
      "text/plain": [
       "(268, 16)"
      ]
     },
     "execution_count": 23,
     "metadata": {},
     "output_type": "execute_result"
    }
   ],
   "source": [
    "val_tmp.shape"
   ]
  },
  {
   "cell_type": "code",
   "execution_count": 24,
   "id": "2743706e",
   "metadata": {
    "ExecuteTime": {
     "end_time": "2022-01-06T07:16:17.226818Z",
     "start_time": "2022-01-06T07:16:17.212818Z"
    }
   },
   "outputs": [
    {
     "data": {
      "text/plain": [
       "0.0    0.585821\n",
       "1.0    0.414179\n",
       "Name: Survived, dtype: float64"
      ]
     },
     "execution_count": 24,
     "metadata": {},
     "output_type": "execute_result"
    }
   ],
   "source": [
    "val_tmp.Survived.value_counts(normalize=True)"
   ]
  },
  {
   "cell_type": "code",
   "execution_count": 25,
   "id": "00d125d7",
   "metadata": {
    "ExecuteTime": {
     "end_time": "2022-01-06T07:16:17.242820Z",
     "start_time": "2022-01-06T07:16:17.228818Z"
    }
   },
   "outputs": [
    {
     "data": {
      "text/plain": [
       "0.0    0.629213\n",
       "1.0    0.370787\n",
       "Name: Survived, dtype: float64"
      ]
     },
     "execution_count": 25,
     "metadata": {},
     "output_type": "execute_result"
    }
   ],
   "source": [
    "train_tmp.Survived.value_counts(normalize=True)"
   ]
  },
  {
   "cell_type": "code",
   "execution_count": 26,
   "id": "4fde0960",
   "metadata": {
    "ExecuteTime": {
     "end_time": "2022-01-06T07:16:24.665559Z",
     "start_time": "2022-01-06T07:16:24.644568Z"
    }
   },
   "outputs": [
    {
     "data": {
      "text/html": [
       "<div>\n",
       "<style scoped>\n",
       "    .dataframe tbody tr th:only-of-type {\n",
       "        vertical-align: middle;\n",
       "    }\n",
       "\n",
       "    .dataframe tbody tr th {\n",
       "        vertical-align: top;\n",
       "    }\n",
       "\n",
       "    .dataframe thead th {\n",
       "        text-align: right;\n",
       "    }\n",
       "</style>\n",
       "<table border=\"1\" class=\"dataframe\">\n",
       "  <thead>\n",
       "    <tr style=\"text-align: right;\">\n",
       "      <th></th>\n",
       "      <th>PassengerId</th>\n",
       "      <th>Survived</th>\n",
       "      <th>Pclass</th>\n",
       "      <th>Name</th>\n",
       "      <th>Sex</th>\n",
       "      <th>Ticket</th>\n",
       "      <th>Embarked</th>\n",
       "      <th>Type</th>\n",
       "      <th>Title</th>\n",
       "      <th>FsizeD</th>\n",
       "      <th>Child</th>\n",
       "      <th>Age</th>\n",
       "      <th>SibSp</th>\n",
       "      <th>Parch</th>\n",
       "      <th>Fare</th>\n",
       "      <th>Family_Size</th>\n",
       "    </tr>\n",
       "  </thead>\n",
       "  <tbody>\n",
       "    <tr>\n",
       "      <th>445</th>\n",
       "      <td>446</td>\n",
       "      <td>1.0</td>\n",
       "      <td>0</td>\n",
       "      <td>Dodge, Master. Washington</td>\n",
       "      <td>1</td>\n",
       "      <td>33638</td>\n",
       "      <td>2</td>\n",
       "      <td>train</td>\n",
       "      <td>0</td>\n",
       "      <td>2</td>\n",
       "      <td>1</td>\n",
       "      <td>-1.627150</td>\n",
       "      <td>-0.479087</td>\n",
       "      <td>1.866526</td>\n",
       "      <td>0.939260</td>\n",
       "      <td>0.705051</td>\n",
       "    </tr>\n",
       "    <tr>\n",
       "      <th>650</th>\n",
       "      <td>651</td>\n",
       "      <td>0.0</td>\n",
       "      <td>2</td>\n",
       "      <td>Mitkoff, Mr. Mito</td>\n",
       "      <td>1</td>\n",
       "      <td>349221</td>\n",
       "      <td>2</td>\n",
       "      <td>train</td>\n",
       "      <td>2</td>\n",
       "      <td>0</td>\n",
       "      <td>0</td>\n",
       "      <td>-0.631236</td>\n",
       "      <td>-0.479087</td>\n",
       "      <td>-0.445000</td>\n",
       "      <td>-0.490691</td>\n",
       "      <td>-0.558346</td>\n",
       "    </tr>\n",
       "    <tr>\n",
       "      <th>172</th>\n",
       "      <td>173</td>\n",
       "      <td>1.0</td>\n",
       "      <td>2</td>\n",
       "      <td>Johnson, Miss. Eleanor Ileen</td>\n",
       "      <td>0</td>\n",
       "      <td>347742</td>\n",
       "      <td>2</td>\n",
       "      <td>train</td>\n",
       "      <td>1</td>\n",
       "      <td>2</td>\n",
       "      <td>1</td>\n",
       "      <td>-1.836816</td>\n",
       "      <td>0.481288</td>\n",
       "      <td>0.710763</td>\n",
       "      <td>-0.428099</td>\n",
       "      <td>0.705051</td>\n",
       "    </tr>\n",
       "    <tr>\n",
       "      <th>450</th>\n",
       "      <td>451</td>\n",
       "      <td>0.0</td>\n",
       "      <td>1</td>\n",
       "      <td>West, Mr. Edwy Arthur</td>\n",
       "      <td>1</td>\n",
       "      <td>C.A. 34651</td>\n",
       "      <td>2</td>\n",
       "      <td>train</td>\n",
       "      <td>2</td>\n",
       "      <td>2</td>\n",
       "      <td>0</td>\n",
       "      <td>0.609288</td>\n",
       "      <td>0.481288</td>\n",
       "      <td>1.866526</td>\n",
       "      <td>-0.106840</td>\n",
       "      <td>1.336749</td>\n",
       "    </tr>\n",
       "    <tr>\n",
       "      <th>314</th>\n",
       "      <td>315</td>\n",
       "      <td>0.0</td>\n",
       "      <td>1</td>\n",
       "      <td>Hart, Mr. Benjamin</td>\n",
       "      <td>1</td>\n",
       "      <td>F.C.C. 13529</td>\n",
       "      <td>2</td>\n",
       "      <td>train</td>\n",
       "      <td>2</td>\n",
       "      <td>2</td>\n",
       "      <td>0</td>\n",
       "      <td>1.098509</td>\n",
       "      <td>0.481288</td>\n",
       "      <td>0.710763</td>\n",
       "      <td>-0.135841</td>\n",
       "      <td>0.705051</td>\n",
       "    </tr>\n",
       "  </tbody>\n",
       "</table>\n",
       "</div>"
      ],
      "text/plain": [
       "     PassengerId  Survived  Pclass                          Name  Sex  \\\n",
       "445          446       1.0       0     Dodge, Master. Washington    1   \n",
       "650          651       0.0       2             Mitkoff, Mr. Mito    1   \n",
       "172          173       1.0       2  Johnson, Miss. Eleanor Ileen    0   \n",
       "450          451       0.0       1         West, Mr. Edwy Arthur    1   \n",
       "314          315       0.0       1            Hart, Mr. Benjamin    1   \n",
       "\n",
       "           Ticket  Embarked   Type  Title  FsizeD  Child       Age     SibSp  \\\n",
       "445         33638         2  train      0       2      1 -1.627150 -0.479087   \n",
       "650        349221         2  train      2       0      0 -0.631236 -0.479087   \n",
       "172        347742         2  train      1       2      1 -1.836816  0.481288   \n",
       "450    C.A. 34651         2  train      2       2      0  0.609288  0.481288   \n",
       "314  F.C.C. 13529         2  train      2       2      0  1.098509  0.481288   \n",
       "\n",
       "        Parch      Fare  Family_Size  \n",
       "445  1.866526  0.939260     0.705051  \n",
       "650 -0.445000 -0.490691    -0.558346  \n",
       "172  0.710763 -0.428099     0.705051  \n",
       "450  1.866526 -0.106840     1.336749  \n",
       "314  0.710763 -0.135841     0.705051  "
      ]
     },
     "execution_count": 26,
     "metadata": {},
     "output_type": "execute_result"
    }
   ],
   "source": [
    "train_tmp.head()"
   ]
  },
  {
   "cell_type": "code",
   "execution_count": 27,
   "id": "572fdadd",
   "metadata": {
    "ExecuteTime": {
     "end_time": "2022-01-06T07:21:00.097594Z",
     "start_time": "2022-01-06T07:21:00.085594Z"
    }
   },
   "outputs": [],
   "source": [
    "use_features = ['Pclass', 'Sex', 'Embarked', 'Title', 'FsizeD', 'Child', 'Age', 'SibSp', 'Parch', 'Fare', 'Family_Size']"
   ]
  },
  {
   "cell_type": "code",
   "execution_count": 28,
   "id": "b11d4748",
   "metadata": {
    "ExecuteTime": {
     "end_time": "2022-01-06T07:21:21.866787Z",
     "start_time": "2022-01-06T07:21:21.840772Z"
    }
   },
   "outputs": [
    {
     "name": "stdout",
     "output_type": "stream",
     "text": [
      "Pclass 3\n",
      "Sex 2\n",
      "Embarked 3\n",
      "Title 6\n",
      "FsizeD 3\n",
      "Child 2\n",
      "Age 80\n",
      "SibSp 7\n",
      "Parch 7\n",
      "Fare 207\n",
      "Family_Size 9\n"
     ]
    }
   ],
   "source": [
    "for col in use_features:\n",
    "    print(col, train_tmp[col].nunique())"
   ]
  },
  {
   "cell_type": "code",
   "execution_count": 30,
   "id": "171aeac3",
   "metadata": {
    "ExecuteTime": {
     "end_time": "2022-01-06T07:22:39.144469Z",
     "start_time": "2022-01-06T07:22:39.131471Z"
    }
   },
   "outputs": [
    {
     "data": {
      "text/plain": [
       "PassengerId      int64\n",
       "Survived       float64\n",
       "Pclass           int64\n",
       "Name            object\n",
       "Sex              int32\n",
       "Ticket          object\n",
       "Embarked         int32\n",
       "Type            object\n",
       "Title            int32\n",
       "FsizeD           int32\n",
       "Child            int64\n",
       "Age            float64\n",
       "SibSp          float64\n",
       "Parch          float64\n",
       "Fare           float64\n",
       "Family_Size    float64\n",
       "dtype: object"
      ]
     },
     "execution_count": 30,
     "metadata": {},
     "output_type": "execute_result"
    }
   ],
   "source": [
    "train_tmp.dtypes"
   ]
  },
  {
   "cell_type": "code",
   "execution_count": null,
   "id": "8bd7c4a0",
   "metadata": {},
   "outputs": [],
   "source": []
  }
 ],
 "metadata": {
  "kernelspec": {
   "display_name": "Python 3",
   "language": "python",
   "name": "python3"
  },
  "language_info": {
   "codemirror_mode": {
    "name": "ipython",
    "version": 3
   },
   "file_extension": ".py",
   "mimetype": "text/x-python",
   "name": "python",
   "nbconvert_exporter": "python",
   "pygments_lexer": "ipython3",
   "version": "3.8.8"
  },
  "toc": {
   "base_numbering": 1,
   "nav_menu": {},
   "number_sections": true,
   "sideBar": true,
   "skip_h1_title": false,
   "title_cell": "Table of Contents",
   "title_sidebar": "Contents",
   "toc_cell": false,
   "toc_position": {},
   "toc_section_display": true,
   "toc_window_display": false
  }
 },
 "nbformat": 4,
 "nbformat_minor": 5
}
