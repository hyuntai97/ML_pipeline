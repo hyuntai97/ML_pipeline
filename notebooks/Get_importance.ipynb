{
 "cells": [
  {
   "cell_type": "code",
   "execution_count": 1,
   "metadata": {},
   "outputs": [],
   "source": [
    "# import os\n",
    "# import time\n",
    "# import random\n",
    "# from tqdm import tqdm\n",
    "# import numpy as np\n",
    "# from sklearn.metrics import roc_auc_score, confusion_matrix, classification_report\n",
    "# from sklearn.inspection import permutation_importance\n",
    "# from sklearn.model_selection import StratifiedKFold\n",
    "# import lightgbm as lgb\n",
    "# import shap"
   ]
  },
  {
   "cell_type": "code",
   "execution_count": 2,
   "metadata": {},
   "outputs": [],
   "source": [
    "class ScoreWrapper(object):\n",
    "    def fit(self, X, y):\n",
    "        print('ScoreWrapper fit called')\n",
    "        \n",
    "    def predict(self, x):\n",
    "        raise NotimplementedError()\n",
    "    \n",
    "    def score(self, X, y):\n",
    "        y_pred_proba = self.predict(X)\n",
    "        auroc = roc_auc_score(y, y_pred_proba)\n",
    "        return auroc"
   ]
  },
  {
   "cell_type": "code",
   "execution_count": 3,
   "metadata": {},
   "outputs": [],
   "source": [
    "class LGBMWrapper(ScoreWrapper):\n",
    "    def __init__(self, model):\n",
    "        self.model = model\n",
    "    def predict(self, X):\n",
    "        return self.model.predict(X, num_iteration=self.model.best_iteration)\n",
    "    \n",
    "    def feature_importance(self, **kwargs):\n",
    "        return self.model.feature_importance(**kwargs)"
   ]
  },
  {
   "cell_type": "code",
   "execution_count": 4,
   "metadata": {},
   "outputs": [],
   "source": [
    "def seed_everything(seed=42):\n",
    "    random.seed(seed)\n",
    "    np.random.seed(seed)\n",
    "    os.environ['PYTHONHASHSEED'] = str(seed)\n",
    "    "
   ]
  },
  {
   "cell_type": "code",
   "execution_count": null,
   "metadata": {},
   "outputs": [],
   "source": [
    "def train_kfold(df, label, features, features_cat, params, seed=42, kfold=5):\n",
    "    num_features = len(features)\n",
    "    oof_preds = np.zeros(df.shape[0])\n",
    "    shap_values_valid_array = np.zeros((kfold, num_features))\n",
    "    perm_imp_valid_array = np.zeros((kfold, num_features))\n",
    "    feat_imp_array = np.zeros((kfold, num_features))\n",
    "    \n",
    "    folds = StratifiedKFold(n_splits=kfold, random_seed=seed, shuffle=True)\n",
    "    for c in features_cat:\n",
    "        df[c] = df[c].astype('category')\n",
    "    current_time = time.strftime('%y%m%d_%H%M')\n",
    "    \n",
    "    for fold, (train_idx, valid_idx) in enumerate(folds.split(df[features], df[label])):\n",
    "        train_X, valid_X = df[features].iloc[train_idx], df[features].iloc[valid_idx]\n",
    "        train_y valid_y = df[label].iloc[train_idx], df[label].iloc[valid_idx]"
   ]
  }
 ],
 "metadata": {
  "kernelspec": {
   "display_name": "Python 3 (ipykernel)",
   "language": "python",
   "name": "python3"
  },
  "language_info": {
   "codemirror_mode": {
    "name": "ipython",
    "version": 3
   },
   "file_extension": ".py",
   "mimetype": "text/x-python",
   "name": "python",
   "nbconvert_exporter": "python",
   "pygments_lexer": "ipython3",
   "version": "3.9.8+"
  }
 },
 "nbformat": 4,
 "nbformat_minor": 2
}
