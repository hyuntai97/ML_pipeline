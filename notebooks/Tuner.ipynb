{
 "cells": [
  {
   "cell_type": "code",
   "execution_count": 4,
   "metadata": {},
   "outputs": [],
   "source": [
    "# import numpy as np\n",
    "# import pandas as pd\n",
    "# import lightgbm as lgb\n",
    "# import optuna\n",
    "# from optuna import Trial\n",
    "# from modules.metric import *\n",
    "# from modules.utils import *"
   ]
  },
  {
   "cell_type": "code",
   "execution_count": 5,
   "metadata": {},
   "outputs": [],
   "source": [
    "# def objective(trial: Trial, params, evals_result, path, **dataset):\n",
    "#     params['lambda_l1'] = trial.suggest_loguniform('lambda_l1',1e-8, 1e-1)\n",
    "#     params['lambda_l2'] = trial.suggest_loguniform('lambda_l2',1e-8, 1e-1)\n",
    "#     params['num_leaves'] = trial.suggest_int('num_leaves', 30, 200)\n",
    "    \n",
    "#     train_data = lgb.Dataset(\n",
    "#     dataset['X_train'],\n",
    "#     label=dataset['y_train'],\n",
    "#     categorical_feature=dataset['CAT_FEATURES'],\n",
    "#     free_raw_data=False)\n",
    "    \n",
    "#     valid_data = lgb.Dataset(\n",
    "#     dataset['X_valid'],\n",
    "#     dataset['y_valid'],\n",
    "#     categorical_feature=dataset['CAT_FEATURES'],\n",
    "#     free_raw_data=False)\n",
    "    \n",
    "#     model = lgb.train(params, \n",
    "#                      train_set = train_data,\n",
    "#                      valid_sets = [train_data, valid_data],\n",
    "#                      valid_names = ['train', 'valid'],\n",
    "#                      categorical_feature = dataset['CAT_FEATURES'],\n",
    "#                      evals_result = evals_result, \n",
    "#                      verbose_eval=100)\n",
    "    \n",
    "#     make_single_directory(f'{path}trials')\n",
    "#     save_model(model, f'{path}trials/', f'model_{trial.number}')\n",
    "#     save_object(params, f'{path}trials/', f'params_{trial.number}')\n",
    "    \n",
    "#     df_loss = pd.DataFrame({\n",
    "#         key: evals_result[key][params['metric']]\n",
    "#         for key in evals_result.keys()\n",
    "#     })\n",
    "#     df_loss.to_csv(f'{path}trials/loss_{trial.number}.csv', index=False)\n",
    "    \n",
    "#     trial.set_user_attrs(key='model', value=model)\n",
    "#     trial.set_user_attrs(key='loss', value=df_loss)\n",
    "    \n",
    "#     p_valid = model.predict(valid_data.get_data(),\n",
    "#                            num_iteration=model.best_iteration)\n",
    "#     y_valid = valid_data.get_label()\n",
    "    \n",
    "#     score = auroc(y_valid, p_valid)\n",
    "    \n",
    "#     return score\n"
   ]
  },
  {
   "cell_type": "code",
   "execution_count": null,
   "metadata": {},
   "outputs": [],
   "source": [
    "def callback_study(study, trial):\n",
    "    if study.best_trial.number == trial.number:\n",
    "        study.set_user_attr(key='best_model',value=trial.user_attrs['model'])\n",
    "        study.set_user_attr(key='best_loss',value=trial.user_attrs['loss'])\n",
    "        "
   ]
  }
 ],
 "metadata": {
  "kernelspec": {
   "display_name": "Python 3 (ipykernel)",
   "language": "python",
   "name": "python3"
  },
  "language_info": {
   "codemirror_mode": {
    "name": "ipython",
    "version": 3
   },
   "file_extension": ".py",
   "mimetype": "text/x-python",
   "name": "python",
   "nbconvert_exporter": "python",
   "pygments_lexer": "ipython3",
   "version": "3.9.8+"
  }
 },
 "nbformat": 4,
 "nbformat_minor": 2
}
