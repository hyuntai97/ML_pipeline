{
 "cells": [
  {
   "cell_type": "code",
   "execution_count": 1,
   "metadata": {},
   "outputs": [],
   "source": [
    "# import os, sys\n",
    "# import yaml \n",
    "# import json \n",
    "# import glob\n",
    "# import subprocess\n",
    "# from shutil import copyfile\n",
    "# from datetime import datetime\n",
    "\n",
    "# import pandas as pd\n",
    "# import shap\n",
    "\n",
    "# from sklearn.metrics import accuracy_score, confusion_matrix, f1_score, classification_report\n",
    "# ,roc_auc_score, log_loss, precision_recall_curve, auc, precision_score, recall_score\n",
    "# from sklearn.preprocessing import Binarizer"
   ]
  },
  {
   "cell_type": "code",
   "execution_count": 3,
   "metadata": {},
   "outputs": [],
   "source": [
    "def make_local_importance(input_df):\n",
    "    df = input_df.copy()\n",
    "    pred1_df = df[df['예측']==1]\n",
    "    shap_cols = [col for col in pred1_df.columns if '(SHAP)' in col]\n",
    "    columns = [col[6:] for col in shap_cols]\n",
    "    total_dic = {}\n",
    "    \n",
    "    for i in range(len(pred1_df)):\n",
    "        local_shap = pred1_df[shap_cols].iloc[i, :].values\n",
    "        sorted_idx = local_shap.argsort()[::-1]\n",
    "        key = pred1_df['key'].values[i]\n",
    "        \n",
    "        local_dic = {}\n",
    "        for j in range(10):\n",
    "            col = columns[sorted_idx[j]]\n",
    "            importance = np.round(local_shap[sorted_idx[j]], 4)\n",
    "            actual_local = pred1_df[col].values[i]\n",
    "            local_dic[j+1] = f'{col}({actual_local}/{importance})'\n",
    "        total_dic[key] = local_dic\n",
    "        \n",
    "    return total_dic\n"
   ]
  },
  {
   "cell_type": "code",
   "execution_count": null,
   "metadata": {},
   "outputs": [],
   "source": [
    "def make_local_importance2(input_df):\n",
    "    df = input_df.copy()\n",
    "    shap_cols = [col for col in df.columns if '(SHAP)' in col]\n",
    "    columns = [col[6:] for col in shap_cols]\n",
    "    total_dic = {}\n",
    "    \n",
    "    for i in range(len(df)):\n",
    "        local_shap = df[shap_cols].iloc[i, :].values\n",
    "        sorted_idx = local_shap.argsort()[::-1]\n",
    "        key = df['key'].values[i]\n",
    "        \n",
    "        local_dic = {}\n",
    "        for j in range(10):\n",
    "            col = columns[sorted_idx[j]]\n",
    "            importance = np.round(local_shap[sorted_idx[j]], 4)\n",
    "            actual_local = df[col].values[i]\n",
    "            local_dic[j+1] = f'{col}({actual_local}/{importance})'\n",
    "        total_dic[key] = local_dic\n",
    "        \n",
    "    df_shap = pd.DataFrame(total_dic)\n",
    "    df_shap = df_shap.T.reset_index()\n",
    "    df_shap.drop('index', axis=1, inplace=True)\n",
    "    \n",
    "    columns =[]\n",
    "    for i in range(1, 11):\n",
    "        columns.append(f'rank{i}')\n",
    "        \n",
    "    df_shap.columns = columns\n",
    "    shap_cols = [col for col in df.columns if '(SHAP)' in col]\n",
    "    \n",
    "    df_add_shap = pd.concat([df.drop(shap_cols, axis=1), df_shap], axis=1)\n",
    "    \n",
    "    return df_add_shap"
   ]
  }
 ],
 "metadata": {
  "kernelspec": {
   "display_name": "Python 3 (ipykernel)",
   "language": "python",
   "name": "python3"
  },
  "language_info": {
   "codemirror_mode": {
    "name": "ipython",
    "version": 3
   },
   "file_extension": ".py",
   "mimetype": "text/x-python",
   "name": "python",
   "nbconvert_exporter": "python",
   "pygments_lexer": "ipython3",
   "version": "3.9.8+"
  }
 },
 "nbformat": 4,
 "nbformat_minor": 2
}
