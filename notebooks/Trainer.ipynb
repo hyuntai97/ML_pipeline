{
 "cells": [
  {
   "cell_type": "code",
   "execution_count": 1,
   "metadata": {},
   "outputs": [],
   "source": [
    "# import yaml\n",
    "# from glob import glob\n",
    "# import pickle \n",
    "# import joblib\n",
    "# import os, sys\n",
    "# from pathlib import Path\n",
    "# from datetime import datetime\n",
    "# from tqdm import tqdm\n",
    "# from shutil import copyfile\n",
    "\n",
    "# import numpy as np\n",
    "# import pandas as pd\n",
    "\n",
    "# import matplotlib as mpl\n",
    "# import matplotlib.pyplot as plt \n",
    "# import seaborn as sns\n",
    "\n",
    "# import lightgbm as lgb\n",
    "# from sklearn.model_selection import train_test_split\n",
    "# from sklearn.preprocessing import OrdinalEncoder\n",
    "# from modules.tuner import *"
   ]
  },
  {
   "cell_type": "code",
   "execution_count": 2,
   "metadata": {},
   "outputs": [],
   "source": [
    "def ordinal_encoding(df_input, encoding_lst, save_dir):\n",
    "    df = df_input.copy()\n",
    "    oe = OrdinalEncoder()\n",
    "    oe.fit(df[encoding_lst])\n",
    "    np.save(f'{save_dir}encoding.npy', oe)\n",
    "    print(f'Encoding file saved to: {save_dir}')\n",
    "    return oe"
   ]
  },
  {
   "cell_type": "code",
   "execution_count": 3,
   "metadata": {},
   "outputs": [],
   "source": [
    "def train_model(config, params, evals_result, path, **dataset):\n",
    "    if config['TRAIN']['optuna']['use']:\n",
    "        N_TRIALS = config['TRAIN']['optuna']['trials']\n",
    "        study = optuna.create_study(direction='minimize')\n",
    "        study.optimize(lambda trial: objective(trial, params, evals_result=evals_result,\n",
    "                                              path=path, **dataset), n_trials=N_TRIALS, callbacks=[callback_study])\n",
    "        params.update(study.best_trial.params)\n",
    "        model = study.user_attrs['best_model']\n",
    "        df_loss = study.user_attrs['best_loss']\n",
    "        \n",
    "    else:\n",
    "        train_data = lgb.Dataset(dataset['X_train'],\n",
    "                                label=dataset['y_train'],\n",
    "                                categorical_feature=dataset['CAT_FEATURES'],\n",
    "                                free_raw_data=False)\n",
    "        valid_data = lgb.Dataset(dataset['X_valid'],\n",
    "                                dataset['y_valid'],\n",
    "                                categorical_feature=dataset['CAT_FEATURES'],\n",
    "                                free_raw_data=False)\n",
    "        model = lgb.train(params\n",
    "                         ,train_set=train_data\n",
    "                         ,valid_sets=[train_data, valid_data]\n",
    "                         ,valid_names = ['train', 'valid']\n",
    "                         ,evals_result=evals_result\n",
    "                         ,num_boost_round=5000\n",
    "                         ,early_stopping_rounds=1000\n",
    "                         ,verbose_eval=10)\n",
    "        df_loss = pd.DataFrame({key: evals_result[key][params['metric']] for key in evals_result.keys()})\n",
    "        \n",
    "    return params, model, df_loss"
   ]
  },
  {
   "cell_type": "code",
   "execution_count": null,
   "metadata": {},
   "outputs": [],
   "source": [
    "def save_loss(df_loss, path):\n",
    "    sns.lineplot(data=df_loss, x=df_loss.index, y='train', label='train', color='#5392cd')\n",
    "    sns.lineplot(data=df_loss, x=df_loss.index, y='valid', label='valid', color='#dd8452')\n",
    "    plt.title('loss', fontsize=30)\n",
    "    make_single_directory(f'{path}')\n",
    "    plt.savefig(f'{path}/loss.png', dpi=300)\n",
    "    plt.clf()\n",
    "    df_loss.to_csv(f'{path}/loss.csv', index=False)"
   ]
  },
  {
   "cell_type": "code",
   "execution_count": null,
   "metadata": {},
   "outputs": [],
   "source": []
  }
 ],
 "metadata": {
  "kernelspec": {
   "display_name": "Python 3",
   "language": "python",
   "name": "python3"
  },
  "language_info": {
   "codemirror_mode": {
    "name": "ipython",
    "version": 3
   },
   "file_extension": ".py",
   "mimetype": "text/x-python",
   "name": "python",
   "nbconvert_exporter": "python",
   "pygments_lexer": "ipython3",
   "version": "3.8.8"
  },
  "toc": {
   "base_numbering": 1,
   "nav_menu": {},
   "number_sections": true,
   "sideBar": true,
   "skip_h1_title": false,
   "title_cell": "Table of Contents",
   "title_sidebar": "Contents",
   "toc_cell": false,
   "toc_position": {},
   "toc_section_display": true,
   "toc_window_display": false
  }
 },
 "nbformat": 4,
 "nbformat_minor": 2
}
