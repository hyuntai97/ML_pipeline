{
 "cells": [
  {
   "cell_type": "code",
   "execution_count": 1,
   "id": "6fc6f767",
   "metadata": {
    "ExecuteTime": {
     "end_time": "2022-01-05T10:03:28.130378Z",
     "start_time": "2022-01-05T10:03:24.961051Z"
    }
   },
   "outputs": [],
   "source": [
    "import yaml\n",
    "import os, sys\n",
    "from pathlib import Path\n",
    "from datetime import datetime\n",
    "from tqdm import tqdm\n",
    "from shutil import copyfile\n",
    "import numpy as np\n",
    "import pandas as pd\n",
    "import matplotlib as mpl\n",
    "import matplotlib.pyplot as plt\n",
    "import seaborn as sns"
   ]
  },
  {
   "cell_type": "code",
   "execution_count": null,
   "id": "1a4e1750",
   "metadata": {},
   "outputs": [],
   "source": [
    "PRJ_DIR = '../'\n",
    "sys.path.append(PRJ_DIR)\n",
    "\n",
    "from modules.utils import *\n"
   ]
  },
  {
   "cell_type": "code",
   "execution_count": 7,
   "id": "82af6946",
   "metadata": {
    "ExecuteTime": {
     "end_time": "2022-01-06T06:42:21.391453Z",
     "start_time": "2022-01-06T06:42:21.381451Z"
    }
   },
   "outputs": [],
   "source": [
    "import string\n",
    "import random"
   ]
  },
  {
   "cell_type": "code",
   "execution_count": 9,
   "id": "94162dd1",
   "metadata": {
    "ExecuteTime": {
     "end_time": "2022-01-06T06:42:45.215101Z",
     "start_time": "2022-01-06T06:42:45.210110Z"
    },
    "scrolled": true
   },
   "outputs": [],
   "source": [
    "string_pool = string.ascii_uppercase"
   ]
  },
  {
   "cell_type": "code",
   "execution_count": 10,
   "id": "acd1a7f8",
   "metadata": {
    "ExecuteTime": {
     "end_time": "2022-01-06T06:42:45.939951Z",
     "start_time": "2022-01-06T06:42:45.918937Z"
    }
   },
   "outputs": [
    {
     "data": {
      "text/plain": [
       "'F'"
      ]
     },
     "execution_count": 10,
     "metadata": {},
     "output_type": "execute_result"
    }
   ],
   "source": [
    "random.choice(string_pool)"
   ]
  },
  {
   "cell_type": "code",
   "execution_count": 17,
   "id": "21dffb9a",
   "metadata": {
    "ExecuteTime": {
     "end_time": "2022-01-06T06:44:47.622537Z",
     "start_time": "2022-01-06T06:44:47.616536Z"
    }
   },
   "outputs": [],
   "source": [
    "string_pool = string.ascii_lowercase + string.digits\n",
    "\n",
    "result = ''\n",
    "for i in range(7):\n",
    "    result += random.choice(string_pool)"
   ]
  },
  {
   "cell_type": "code",
   "execution_count": 18,
   "id": "693a1a8e",
   "metadata": {
    "ExecuteTime": {
     "end_time": "2022-01-06T06:44:47.856773Z",
     "start_time": "2022-01-06T06:44:47.838301Z"
    }
   },
   "outputs": [
    {
     "data": {
      "text/plain": [
       "'dg0imbb'"
      ]
     },
     "execution_count": 18,
     "metadata": {},
     "output_type": "execute_result"
    }
   ],
   "source": [
    "result"
   ]
  },
  {
   "cell_type": "code",
   "execution_count": null,
   "id": "c5f85b2b",
   "metadata": {},
   "outputs": [],
   "source": []
  }
 ],
 "metadata": {
  "kernelspec": {
   "display_name": "Python 3",
   "language": "python",
   "name": "python3"
  },
  "language_info": {
   "codemirror_mode": {
    "name": "ipython",
    "version": 3
   },
   "file_extension": ".py",
   "mimetype": "text/x-python",
   "name": "python",
   "nbconvert_exporter": "python",
   "pygments_lexer": "ipython3",
   "version": "3.8.8"
  },
  "toc": {
   "base_numbering": 1,
   "nav_menu": {},
   "number_sections": true,
   "sideBar": true,
   "skip_h1_title": false,
   "title_cell": "Table of Contents",
   "title_sidebar": "Contents",
   "toc_cell": false,
   "toc_position": {},
   "toc_section_display": true,
   "toc_window_display": false
  }
 },
 "nbformat": 4,
 "nbformat_minor": 5
}
